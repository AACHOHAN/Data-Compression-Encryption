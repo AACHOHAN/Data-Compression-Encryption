{
  "nbformat": 4,
  "nbformat_minor": 0,
  "metadata": {
    "colab": {
      "name": "Exp:-1 Huffman Coding.ipynb",
      "provenance": [],
      "authorship_tag": "ABX9TyM8ag5dFmeTid8JQh/Vy0lI",
      "include_colab_link": true
    },
    "kernelspec": {
      "name": "python3",
      "display_name": "Python 3"
    }
  },
  "cells": [
    {
      "cell_type": "markdown",
      "metadata": {
        "id": "view-in-github",
        "colab_type": "text"
      },
      "source": [
        "<a href=\"https://colab.research.google.com/github/AACHOHAN/Data-Compression-Encryption/blob/master/Exp%3A-1%20Huffman%20Coding.ipynb\" target=\"_parent\"><img src=\"https://colab.research.google.com/assets/colab-badge.svg\" alt=\"Open In Colab\"/></a>"
      ]
    },
    {
      "cell_type": "code",
      "metadata": {
        "id": "ivViZ0TxSsKF"
      },
      "source": [
        "pip install dahuffman"
      ],
      "execution_count": null,
      "outputs": []
    },
    {
      "cell_type": "code",
      "metadata": {
        "id": "TtErV-s3S78O"
      },
      "source": [
        "from dahuffman import HuffmanCodec"
      ],
      "execution_count": 2,
      "outputs": []
    },
    {
      "cell_type": "code",
      "metadata": {
        "id": "U6cVcjhYTFQd"
      },
      "source": [
        "codec=HuffmanCodec.from_frequencies({'a':10,'i':20,'k':1,'t':40,'c':3})"
      ],
      "execution_count": 3,
      "outputs": []
    },
    {
      "cell_type": "code",
      "metadata": {
        "id": "g76dNknFTI44"
      },
      "source": [
        "encoded=codec.encode('aiktc')"
      ],
      "execution_count": 4,
      "outputs": []
    },
    {
      "cell_type": "code",
      "metadata": {
        "id": "9YRinzMRVKDd",
        "outputId": "a49e738a-095f-46f6-8d75-3f276b2ddae0",
        "colab": {
          "base_uri": "https://localhost:8080/"
        }
      },
      "source": [
        "encoded"
      ],
      "execution_count": 5,
      "outputs": [
        {
          "output_type": "execute_result",
          "data": {
            "text/plain": [
              "b'(b'"
            ]
          },
          "metadata": {
            "tags": []
          },
          "execution_count": 5
        }
      ]
    },
    {
      "cell_type": "code",
      "metadata": {
        "id": "6zoVdmtwVP_J",
        "outputId": "87cf7a1c-e616-40f7-f054-c0dbf61ebccd",
        "colab": {
          "base_uri": "https://localhost:8080/"
        }
      },
      "source": [
        "len(encoded)"
      ],
      "execution_count": 6,
      "outputs": [
        {
          "output_type": "execute_result",
          "data": {
            "text/plain": [
              "2"
            ]
          },
          "metadata": {
            "tags": []
          },
          "execution_count": 6
        }
      ]
    },
    {
      "cell_type": "code",
      "metadata": {
        "id": "7aU0aHTzVXMR",
        "outputId": "bd982ba6-5d5d-4972-f21d-7045167f9bea",
        "colab": {
          "base_uri": "https://localhost:8080/"
        }
      },
      "source": [
        "codec.print_code_table()"
      ],
      "execution_count": 7,
      "outputs": [
        {
          "output_type": "stream",
          "text": [
            "Bits Code  Value Symbol\n",
            "   5 00000     0 _EOF\n",
            "   5 00001     1 'k'\n",
            "   4 0001      1 'c'\n",
            "   3 001       1 'a'\n",
            "   2 01        1 'i'\n",
            "   1 1         1 't'\n"
          ],
          "name": "stdout"
        }
      ]
    },
    {
      "cell_type": "code",
      "metadata": {
        "id": "qjjaognmTIcj"
      },
      "source": [
        ""
      ],
      "execution_count": null,
      "outputs": []
    },
    {
      "cell_type": "code",
      "metadata": {
        "id": "IY3HtnUyViiT"
      },
      "source": [
        "decode1=codec.decode(encoded)"
      ],
      "execution_count": 8,
      "outputs": []
    },
    {
      "cell_type": "code",
      "metadata": {
        "id": "KWw5U5t_VrnT",
        "outputId": "7d2b7fc5-cbf3-4049-9d3a-662cdbb0f340",
        "colab": {
          "base_uri": "https://localhost:8080/",
          "height": 35
        }
      },
      "source": [
        "decode1"
      ],
      "execution_count": 9,
      "outputs": [
        {
          "output_type": "execute_result",
          "data": {
            "application/vnd.google.colaboratory.intrinsic+json": {
              "type": "string"
            },
            "text/plain": [
              "'aiktc'"
            ]
          },
          "metadata": {
            "tags": []
          },
          "execution_count": 9
        }
      ]
    },
    {
      "cell_type": "code",
      "metadata": {
        "id": "XoE1A2uAV3-a",
        "outputId": "961c97ab-8a59-4e36-971f-286b886a283c",
        "colab": {
          "base_uri": "https://localhost:8080/"
        }
      },
      "source": [
        "len(decode1)"
      ],
      "execution_count": 10,
      "outputs": [
        {
          "output_type": "execute_result",
          "data": {
            "text/plain": [
              "5"
            ]
          },
          "metadata": {
            "tags": []
          },
          "execution_count": 10
        }
      ]
    }
  ]
}